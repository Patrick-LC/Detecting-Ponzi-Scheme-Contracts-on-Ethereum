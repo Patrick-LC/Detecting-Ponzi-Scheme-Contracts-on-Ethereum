{
 "cells": [
  {
   "cell_type": "code",
   "execution_count": 1,
   "metadata": {
    "_cell_guid": "b1076dfc-b9ad-4769-8c92-a6c4dae69d19",
    "_uuid": "8f2839f25d086af736a60e9eeb907d3b93b6e0e5",
    "execution": {
     "iopub.execute_input": "2023-05-21T12:51:21.328259Z",
     "iopub.status.busy": "2023-05-21T12:51:21.327496Z",
     "iopub.status.idle": "2023-05-21T12:51:21.984331Z",
     "shell.execute_reply": "2023-05-21T12:51:21.983298Z",
     "shell.execute_reply.started": "2023-05-21T12:51:21.328202Z"
    },
    "pycharm": {
     "is_executing": true
    },
    "trusted": true
   },
   "outputs": [],
   "source": [
    "# This Python 3 environment comes with many helpful analytics libraries installed\n",
    "# It is defined by the kaggle/python docker image: https://github.com/kaggle/docker-python\n",
    "# For example, here's several helpful packages to load in \n",
    "\n",
    "import numpy as np # linear algebra\n",
    "import pandas as pd # data processing, CSV file I/O (e.g. pd.read_csv)\n",
    "\n",
    "# Input data files are available in the \"../input/\" directory.\n",
    "# For example, running this (by clicking run or pressing Shift+Enter) will list all files under the input directory\n",
    "\n",
    "import os\n",
    "for dirname, _, filenames in os.walk('/kaggle/input'):\n",
    "    for filename in filenames:\n",
    "        print(os.path.join(dirname, filename))\n",
    "\n",
    "# Any results you write to the current directory are saved as output."
   ]
  },
  {
   "cell_type": "code",
   "execution_count": 2,
   "metadata": {
    "_cell_guid": "79c7e3d0-c299-4dcb-8224-4455121ee9b0",
    "_uuid": "d629ff2d2480ee46fbb7e2d37f6b5fab8052498a",
    "execution": {
     "iopub.execute_input": "2023-05-21T12:51:21.987321Z",
     "iopub.status.busy": "2023-05-21T12:51:21.986604Z",
     "iopub.status.idle": "2023-05-21T12:51:22.816955Z",
     "shell.execute_reply": "2023-05-21T12:51:22.815964Z",
     "shell.execute_reply.started": "2023-05-21T12:51:21.987253Z"
    },
    "trusted": true
   },
   "outputs": [],
   "source": [
    "import platform\n",
    "import pickle\n",
    "import networkx as nx"
   ]
  },
  {
   "attachments": {},
   "cell_type": "markdown",
   "metadata": {},
   "source": [
    "Read"
   ]
  },
  {
   "cell_type": "code",
   "execution_count": 3,
   "metadata": {
    "execution": {
     "iopub.execute_input": "2023-05-21T12:51:22.822009Z",
     "iopub.status.busy": "2023-05-21T12:51:22.821583Z",
     "iopub.status.idle": "2023-05-21T12:51:22.828432Z",
     "shell.execute_reply": "2023-05-21T12:51:22.827210Z",
     "shell.execute_reply.started": "2023-05-21T12:51:22.821944Z"
    },
    "trusted": true
   },
   "outputs": [
    {
     "name": "stdout",
     "output_type": "stream",
     "text": [
      "python version:\t\t 3.11.2\n",
      "networkx version:\t 3.1\n"
     ]
    }
   ],
   "source": [
    "print(\"python version:\\t\\t\", platform.python_version())\n",
    "print(\"networkx version:\\t\", nx.__version__)"
   ]
  },
  {
   "cell_type": "code",
   "execution_count": 8,
   "metadata": {
    "execution": {
     "iopub.execute_input": "2023-05-21T12:51:22.830323Z",
     "iopub.status.busy": "2023-05-21T12:51:22.829936Z",
     "iopub.status.idle": "2023-05-21T12:52:39.267358Z",
     "shell.execute_reply": "2023-05-21T12:52:39.266344Z",
     "shell.execute_reply.started": "2023-05-21T12:51:22.830269Z"
    },
    "trusted": true
   },
   "outputs": [
    {
     "name": "stdout",
     "output_type": "stream",
     "text": [
      "Number of nodes: 2973489\n",
      "Number of edges: 13551303\n"
     ]
    }
   ],
   "source": [
    "def load_pickle(fname):\n",
    "    with open(fname, 'rb') as f:\n",
    "        return pickle.load(f)\n",
    "    \n",
    "G = load_pickle('/Users/lc/Desktop/etherscan/Ethereum Phishing Transaction Network/MulDiGraph.pkl')\n",
    "print(\"Number of nodes:\", G.number_of_nodes())\n",
    "print(\"Number of edges:\", G.number_of_edges())\n"
   ]
  },
  {
   "cell_type": "code",
   "execution_count": 9,
   "metadata": {
    "execution": {
     "iopub.execute_input": "2023-05-21T12:52:39.271235Z",
     "iopub.status.busy": "2023-05-21T12:52:39.270780Z",
     "iopub.status.idle": "2023-05-21T12:52:39.279759Z",
     "shell.execute_reply": "2023-05-21T12:52:39.277979Z",
     "shell.execute_reply.started": "2023-05-21T12:52:39.271175Z"
    },
    "trusted": true
   },
   "outputs": [
    {
     "name": "stdout",
     "output_type": "stream",
     "text": [
      "node: 0x1f1e784a61a8ca0a90250bcd2170696655b28a21\n",
      "label: 0\n"
     ]
    }
   ],
   "source": [
    "# Traversal nodes:\n",
    "for idx, nd in enumerate(G.nodes):\n",
    "    # print the current node.\n",
    "    print(\"node:\", nd)\n",
    "    # print node label ∈{0,1}\n",
    "    # 1 represents phishing node, 0 represents the node of unknown tag.\n",
    "    print(\"label:\", G.nodes[nd]['isp'])\n",
    "    break"
   ]
  },
  {
   "cell_type": "code",
   "execution_count": 10,
   "metadata": {
    "execution": {
     "iopub.execute_input": "2023-05-21T12:57:32.565450Z",
     "iopub.status.busy": "2023-05-21T12:57:32.565014Z",
     "iopub.status.idle": "2023-05-21T12:57:43.775062Z",
     "shell.execute_reply": "2023-05-21T12:57:43.774058Z",
     "shell.execute_reply.started": "2023-05-21T12:57:32.565396Z"
    },
    "trusted": true
   },
   "outputs": [
    {
     "name": "stdout",
     "output_type": "stream",
     "text": [
      "2973489\n",
      "13551303\n"
     ]
    }
   ],
   "source": [
    "# Traversal nodes:\n",
    "print(len(G.nodes))\n",
    "print(len(nx.edges(G)))"
   ]
  },
  {
   "cell_type": "code",
   "execution_count": 11,
   "metadata": {
    "execution": {
     "iopub.execute_input": "2023-05-21T12:52:39.281807Z",
     "iopub.status.busy": "2023-05-21T12:52:39.281458Z",
     "iopub.status.idle": "2023-05-21T12:52:39.294736Z",
     "shell.execute_reply": "2023-05-21T12:52:39.293643Z",
     "shell.execute_reply.started": "2023-05-21T12:52:39.281756Z"
    },
    "trusted": true
   },
   "outputs": [
    {
     "name": "stdout",
     "output_type": "stream",
     "text": [
      "amount: 2.3446233\n",
      "timestamp: 1526454086.0\n"
     ]
    }
   ],
   "source": [
    "# Travelsal edges:\n",
    "for ind, edge in enumerate(nx.edges(G)):\n",
    "    # gets the nodes on both sides of the edge.\n",
    "    (u, v) = edge\n",
    "    # gets the first edge from node u to node v.\n",
    "    eg = G[u][v][0]\n",
    "    # gets the properties of the directed edge: the amount and timestamp of the transaction.\n",
    "    amo, tim = eg['amount'], eg['timestamp']\n",
    "    print(\"amount:\", amo)\n",
    "    print(\"timestamp:\", tim)\n",
    "    break"
   ]
  },
  {
   "cell_type": "code",
   "execution_count": 13,
   "metadata": {
    "execution": {
     "iopub.execute_input": "2023-05-21T12:52:39.296959Z",
     "iopub.status.busy": "2023-05-21T12:52:39.296486Z",
     "iopub.status.idle": "2023-05-21T12:53:48.662510Z",
     "shell.execute_reply": "2023-05-21T12:53:48.661183Z",
     "shell.execute_reply.started": "2023-05-21T12:52:39.296892Z"
    },
    "trusted": true
   },
   "outputs": [],
   "source": [
    "# get the graph adjacency matrix(where a_ij means the number of edges of i to j) as a SciPy sparse matrix.\n",
    "# more operations can refer to the networkx help documentation.\n",
    "import scipy.sparse as sp\n",
    "\n",
    "G = load_pickle('/Users/lc/Desktop/etherscan/Ethereum Phishing Transaction Network/MulDiGraph.pkl')\n",
    "sparse_adj_matrix = sp.csr_matrix(nx.adjacency_matrix(G))\n"
   ]
  },
  {
   "cell_type": "code",
   "execution_count": 14,
   "metadata": {
    "execution": {
     "iopub.execute_input": "2023-05-21T12:53:48.665437Z",
     "iopub.status.busy": "2023-05-21T12:53:48.664691Z",
     "iopub.status.idle": "2023-05-21T12:53:48.753517Z",
     "shell.execute_reply": "2023-05-21T12:53:48.752654Z",
     "shell.execute_reply.started": "2023-05-21T12:53:48.665165Z"
    },
    "trusted": true
   },
   "outputs": [
    {
     "name": "stdout",
     "output_type": "stream",
     "text": [
      "  (0, 1)\t1\n",
      "  (0, 458)\t1\n",
      "  (0, 7771)\t1\n",
      "  (0, 16115)\t1\n",
      "  (0, 17858)\t1\n",
      "  (0, 19630)\t1\n",
      "  (0, 21497)\t86\n",
      "  (0, 32433)\t1\n",
      "  (0, 33537)\t1\n",
      "  (0, 42214)\t1\n",
      "  (0, 53260)\t1\n",
      "  (0, 54002)\t1\n",
      "  (0, 54232)\t1\n",
      "  (0, 55645)\t2\n",
      "  (0, 55647)\t2\n",
      "  (0, 57983)\t1\n",
      "  (0, 95828)\t1\n",
      "  (0, 108298)\t1\n",
      "  (0, 111207)\t1\n",
      "  (0, 111805)\t1\n",
      "  (0, 136213)\t1\n",
      "  (0, 136502)\t1\n",
      "  (0, 138573)\t1\n",
      "  (0, 139855)\t2\n",
      "  (0, 141201)\t1\n",
      "  :\t:\n",
      "  (2973431, 9758)\t1\n",
      "  (2973432, 9758)\t2\n",
      "  (2973433, 9758)\t1\n",
      "  (2973434, 9758)\t1\n",
      "  (2973435, 9758)\t2\n",
      "  (2973436, 9758)\t1\n",
      "  (2973437, 9758)\t1\n",
      "  (2973438, 9758)\t1\n",
      "  (2973439, 9758)\t1\n",
      "  (2973440, 9758)\t1\n",
      "  (2973441, 9758)\t1\n",
      "  (2973442, 9758)\t1\n",
      "  (2973443, 9758)\t1\n",
      "  (2973444, 9758)\t1\n",
      "  (2973445, 9758)\t1\n",
      "  (2973446, 9758)\t1\n",
      "  (2973447, 324630)\t3\n",
      "  (2973448, 175511)\t1\n",
      "  (2973449, 1772952)\t1\n",
      "  (2973452, 2068367)\t1\n",
      "  (2973453, 1845941)\t1\n",
      "  (2973454, 1845941)\t1\n",
      "  (2973482, 1845941)\t2\n",
      "  (2973486, 127998)\t1\n",
      "  (2973488, 1143020)\t2\n"
     ]
    }
   ],
   "source": [
    "print(sparse_adj_matrix)"
   ]
  },
  {
   "cell_type": "code",
   "execution_count": 15,
   "metadata": {
    "execution": {
     "iopub.execute_input": "2023-05-21T12:58:35.361919Z",
     "iopub.status.busy": "2023-05-21T12:58:35.361434Z",
     "iopub.status.idle": "2023-05-21T12:58:35.369546Z",
     "shell.execute_reply": "2023-05-21T12:58:35.368212Z",
     "shell.execute_reply.started": "2023-05-21T12:58:35.361870Z"
    },
    "trusted": true
   },
   "outputs": [
    {
     "name": "stdout",
     "output_type": "stream",
     "text": [
      "  (0, 1)\t1\n",
      "  (0, 458)\t1\n",
      "  (0, 7771)\t1\n",
      "  (0, 16115)\t1\n",
      "  (0, 17858)\t1\n",
      "  (0, 19630)\t1\n",
      "  (0, 21497)\t86\n",
      "  (0, 32433)\t1\n",
      "  (0, 33537)\t1\n",
      "  (0, 42214)\t1\n",
      "  (0, 53260)\t1\n",
      "  (0, 54002)\t1\n",
      "  (0, 54232)\t1\n",
      "  (0, 55645)\t2\n",
      "  (0, 55647)\t2\n",
      "  (0, 57983)\t1\n",
      "  (0, 95828)\t1\n",
      "  (0, 108298)\t1\n",
      "  (0, 111207)\t1\n",
      "  (0, 111805)\t1\n",
      "  (0, 136213)\t1\n",
      "  (0, 136502)\t1\n",
      "  (0, 138573)\t1\n",
      "  (0, 139855)\t2\n",
      "  (0, 141201)\t1\n",
      "  :\t:\n",
      "  (0, 2586109)\t1\n",
      "  (0, 2586110)\t1\n",
      "  (0, 2586111)\t1\n",
      "  (0, 2586112)\t1\n",
      "  (0, 2586113)\t1\n",
      "  (0, 2586114)\t1\n",
      "  (0, 2586115)\t1\n",
      "  (0, 2586116)\t1\n",
      "  (0, 2586117)\t1\n",
      "  (0, 2586118)\t1\n",
      "  (0, 2586119)\t1\n",
      "  (0, 2586120)\t1\n",
      "  (0, 2586121)\t1\n",
      "  (0, 2586122)\t1\n",
      "  (0, 2586123)\t1\n",
      "  (0, 2586124)\t1\n",
      "  (0, 2586125)\t1\n",
      "  (0, 2586126)\t1\n",
      "  (0, 2586127)\t1\n",
      "  (0, 2586128)\t2\n",
      "  (0, 2586129)\t1\n",
      "  (0, 2586130)\t1\n",
      "  (0, 2586131)\t1\n",
      "  (0, 2586132)\t2\n",
      "  (0, 2586133)\t1\n"
     ]
    }
   ],
   "source": [
    "print(sparse_adj_matrix[0])"
   ]
  },
  {
   "cell_type": "code",
   "execution_count": 16,
   "metadata": {
    "execution": {
     "iopub.execute_input": "2023-05-21T13:11:53.027472Z",
     "iopub.status.busy": "2023-05-21T13:11:53.026578Z",
     "iopub.status.idle": "2023-05-21T13:11:53.170403Z",
     "shell.execute_reply": "2023-05-21T13:11:53.169351Z",
     "shell.execute_reply.started": "2023-05-21T13:11:53.027386Z"
    },
    "trusted": true
   },
   "outputs": [],
   "source": [
    "X = sparse_adj_matrix[0:-1]\n",
    "Y = sparse_adj_matrix[-2:-1]"
   ]
  },
  {
   "cell_type": "code",
   "execution_count": 17,
   "metadata": {
    "execution": {
     "iopub.execute_input": "2023-05-21T13:11:54.577008Z",
     "iopub.status.busy": "2023-05-21T13:11:54.576326Z",
     "iopub.status.idle": "2023-05-21T13:11:54.583990Z",
     "shell.execute_reply": "2023-05-21T13:11:54.582433Z",
     "shell.execute_reply.started": "2023-05-21T13:11:54.576942Z"
    },
    "trusted": true
   },
   "outputs": [
    {
     "name": "stdout",
     "output_type": "stream",
     "text": [
      "(2973488, 2973489)\n"
     ]
    }
   ],
   "source": [
    "print(X.shape)"
   ]
  },
  {
   "cell_type": "code",
   "execution_count": null,
   "metadata": {
    "execution": {
     "iopub.execute_input": "2023-05-21T13:12:17.729860Z",
     "iopub.status.busy": "2023-05-21T13:12:17.729328Z",
     "iopub.status.idle": "2023-05-21T13:12:17.737977Z",
     "shell.execute_reply": "2023-05-21T13:12:17.736874Z",
     "shell.execute_reply.started": "2023-05-21T13:12:17.729729Z"
    },
    "trusted": true
   },
   "outputs": [],
   "source": []
  },
  {
   "cell_type": "code",
   "execution_count": 18,
   "metadata": {
    "execution": {
     "iopub.execute_input": "2023-05-21T13:12:44.558876Z",
     "iopub.status.busy": "2023-05-21T13:12:44.558403Z",
     "iopub.status.idle": "2023-05-21T13:12:44.563714Z",
     "shell.execute_reply": "2023-05-21T13:12:44.562477Z",
     "shell.execute_reply.started": "2023-05-21T13:12:44.558799Z"
    },
    "trusted": true
   },
   "outputs": [],
   "source": [
    "from sklearn.model_selection import train_test_split"
   ]
  },
  {
   "cell_type": "code",
   "execution_count": null,
   "metadata": {},
   "outputs": [],
   "source": [
    "train_X,test_X,train_y,test_y = train_test_split(X,Y,test_size=0.3,random_state=5)\n",
    "\n",
    "from sklearn.ensemble import RandomForestClassifier\n",
    "\n",
    "# 单颗决策树\n",
    "clf = DecisionTreeClassifier(class_weight='balanced',random_state=37)   \n",
    "clf = clf.fit(xtrain, ytrain)   # 拟合训练集\n",
    "score_c = clf.score(xtest, ytest)   # 输出测试集准确率\n",
    " \n",
    "# 随机森林\n",
    "rfc = RandomForestClassifier(class_weight='balanced',random_state=37)   \n",
    "rfc = rfc.fit(xtrain, ytrain)\n",
    "score_r = rfc.score(xtest, ytest)"
   ]
  }
 ],
 "metadata": {
  "kernelspec": {
   "display_name": "Python 3",
   "language": "python",
   "name": "python3"
  },
  "language_info": {
   "codemirror_mode": {
    "name": "ipython",
    "version": 3
   },
   "file_extension": ".py",
   "mimetype": "text/x-python",
   "name": "python",
   "nbconvert_exporter": "python",
   "pygments_lexer": "ipython3",
   "version": "3.11.2"
  }
 },
 "nbformat": 4,
 "nbformat_minor": 4
}
